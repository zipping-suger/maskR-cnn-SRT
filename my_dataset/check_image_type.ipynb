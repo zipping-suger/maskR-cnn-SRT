{
 "cells": [
  {
   "cell_type": "code",
   "execution_count": 6,
   "metadata": {},
   "outputs": [
    {
     "name": "stdout",
     "output_type": "stream",
     "text": [
      "(480, 640)\n",
      "[[307 307 307 ... 327 327 327]\n",
      " [307 307 307 ... 327 328 328]\n",
      " [307 307 307 ... 327 328 328]\n",
      " ...\n",
      " [465 465 466 ... 559 561 561]\n",
      " [466 466 466 ... 559 561 561]\n",
      " [466 466 466 ... 561 561 561]]\n",
      "(480, 640)\n",
      "[[0 0 0 ... 0 0 0]\n",
      " [0 0 0 ... 0 0 0]\n",
      " [0 0 0 ... 0 0 0]\n",
      " ...\n",
      " [0 0 0 ... 0 0 0]\n",
      " [0 0 0 ... 0 0 0]\n",
      " [0 0 0 ... 0 0 0]]\n",
      "uint16\n",
      "uint8\n",
      "uint8\n",
      "********\n",
      "(480, 640)\n",
      "[[721 721 721 ... 718 717 717]\n",
      " [721 721 721 ... 718 717 717]\n",
      " [721 721 721 ... 717 717 717]\n",
      " ...\n",
      " [715 715 715 ... 717 717 717]\n",
      " [716 716 716 ... 717 717 717]\n",
      " [716 716 716 ... 717 717 717]]\n",
      "(480, 640)\n",
      "[[0 0 0 ... 0 0 0]\n",
      " [0 0 0 ... 0 0 0]\n",
      " [0 0 0 ... 0 0 0]\n",
      " ...\n",
      " [0 0 0 ... 0 0 0]\n",
      " [0 0 0 ... 0 0 0]\n",
      " [0 0 0 ... 0 0 0]]\n",
      "uint16\n",
      "uint8\n",
      "uint8\n"
     ]
    },
    {
     "data": {
      "text/plain": [
       "array([[0, 0, 0, ..., 0, 0, 0],\n",
       "       [0, 0, 0, ..., 0, 0, 0],\n",
       "       [0, 0, 0, ..., 0, 0, 0],\n",
       "       ...,\n",
       "       [0, 0, 0, ..., 0, 0, 0],\n",
       "       [0, 0, 0, ..., 0, 0, 0],\n",
       "       [0, 0, 0, ..., 0, 0, 0]], dtype=uint8)"
      ]
     },
     "execution_count": 6,
     "metadata": {},
     "output_type": "execute_result"
    }
   ],
   "source": [
    "# File Check\n",
    "import os\n",
    "import cv2\n",
    "\n",
    "origin_path = \"D:/Student Research Training/mankey_to_coco/mankey_dataset\"\n",
    "o_depth = os.path.join(origin_path,\"2019-11-19-21-00-00/processed/images/000001_depth.png\")\n",
    "# assert os.path.exists(o_depth)\n",
    "o_mask = os.path.join(origin_path,\"2019-11-19-21-00-00/processed/image_masks/000001_mask.png\")\n",
    "o_rgb = os.path.join(origin_path,\"2019-11-19-21-00-00/processed/images/000001_rgb.png\")\n",
    "\n",
    "yn_path = \"D:/Student Research Training/mankey_to_coco/val\"\n",
    "yn_depth = os.path.join(yn_path,\"2019-11-19-21-00-00/processed/images/000001_depth.png\")\n",
    "# assert os.path.exists(o_depth)\n",
    "yn_mask = os.path.join(yn_path,\"2019-11-19-21-00-00/processed/image_masks/000001_mask.png\")\n",
    "yn_rgb = os.path.join(yn_path,\"2019-11-19-21-00-00/processed/images/000001_rgb.png\")\n",
    "\n",
    "o_pic_dep = cv2.imread(o_depth,cv2.IMREAD_UNCHANGED)\n",
    "o_mask = cv2.imread(o_mask,cv2.IMREAD_UNCHANGED)\n",
    "o_pic_rgb = cv2.imread(o_rgb,cv2.IMREAD_UNCHANGED)\n",
    "\n",
    "yn_pic_dep = cv2.imread(yn_depth,cv2.IMREAD_UNCHANGED)\n",
    "yn_mask = cv2.imread(yn_mask,cv2.IMREAD_UNCHANGED)\n",
    "yn_pic_rgb = cv2.imread(yn_rgb,cv2.IMREAD_UNCHANGED)\n",
    "\n",
    "print(o_pic_dep.shape)\n",
    "print(o_pic_dep)\n",
    "\n",
    "print(o_mask.shape)\n",
    "print(o_mask)\n",
    "\n",
    "print(o_pic_dep.dtype)\n",
    "print(o_mask.dtype)\n",
    "print(o_pic_rgb.dtype)\n",
    "\n",
    "\n",
    "\n",
    "print(\"********\")\n",
    "print(yn_pic_dep.shape)\n",
    "print(yn_pic_dep)\n",
    "print(yn_mask.shape)\n",
    "print(yn_mask)\n",
    "print(yn_pic_dep.dtype)\n",
    "print(yn_mask.dtype)\n",
    "print(yn_pic_rgb.dtype)\n",
    "\n",
    "yn_mask\n",
    "o_mask"
   ]
  },
  {
   "cell_type": "code",
   "execution_count": null,
   "metadata": {},
   "outputs": [],
   "source": []
  }
 ],
 "metadata": {
  "kernelspec": {
   "display_name": "Python [conda env:SRT]",
   "language": "python",
   "name": "conda-env-SRT-py"
  },
  "language_info": {
   "codemirror_mode": {
    "name": "ipython",
    "version": 3
   },
   "file_extension": ".py",
   "mimetype": "text/x-python",
   "name": "python",
   "nbconvert_exporter": "python",
   "pygments_lexer": "ipython3",
   "version": "3.8.5"
  }
 },
 "nbformat": 4,
 "nbformat_minor": 4
}
