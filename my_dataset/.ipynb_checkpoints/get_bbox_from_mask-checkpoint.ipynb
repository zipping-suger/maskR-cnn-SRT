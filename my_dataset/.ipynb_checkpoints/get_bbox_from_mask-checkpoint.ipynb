{
 "cells": [
  {
   "cell_type": "code",
   "execution_count": 11,
   "metadata": {},
   "outputs": [],
   "source": [
    "import numpy as np\n",
    "import matplotlib\n",
    "import cv2\n",
    "import attr\n",
    "from PIL import Image\n",
    "# from typing import List"
   ]
  },
  {
   "cell_type": "code",
   "execution_count": 3,
   "metadata": {},
   "outputs": [],
   "source": [
    "@attr.s\n",
    "class PixelCoord(object):\n",
    "    \"\"\"\n",
    "    A small struct used to index in image.\n",
    "    Note that x is the column index, y is row index\n",
    "    \"\"\"\n",
    "    x = 0\n",
    "    y = 0\n",
    "\n",
    "    @property\n",
    "    def row_location(self): # type: (PixelCoord) -> int\n",
    "        return self.y\n",
    "\n",
    "    @property\n",
    "    def col_location(self): # type: (PixelCoord) -> int\n",
    "        return self.x"
   ]
  },
  {
   "cell_type": "code",
   "execution_count": 4,
   "metadata": {},
   "outputs": [],
   "source": [
    "def mask2bbox(mask_img):  # type: (np.ndarray) -> (PixelCoord, PixelCoord)\n",
    "    \"\"\"\n",
    "    Given an object binary mask, get the tight object bounding box\n",
    "    as a tuple contains top_left and bottom_right pixel coord\n",
    "    :param mask_img: (height, width, 3) mask image\n",
    "    :return: A tuple contains top_left and bottom_right pixel coord\n",
    "    \"\"\"\n",
    "    binary_mask = mask_img.max(axis=2)\n",
    "    n_rows, n_cols = binary_mask.shape\n",
    "    # Compute sum over the row and compute the left and right\n",
    "    mask_rowsum = np.sum(binary_mask, axis=0, keepdims=False)\n",
    "    assert mask_rowsum.size == n_cols\n",
    "    left = first_nonzero_idx(mask_rowsum, False)\n",
    "    right = first_nonzero_idx(mask_rowsum, True)\n",
    "\n",
    "    # Compute sum over the col and compute the top and bottom\n",
    "    mask_colsum = np.sum(binary_mask, axis=1)\n",
    "    assert mask_colsum.size == n_rows\n",
    "    top = first_nonzero_idx(mask_colsum, False)\n",
    "    bottom = first_nonzero_idx(mask_colsum, True)\n",
    "\n",
    "    # Ok\n",
    "    top_left = PixelCoord()\n",
    "    top_left.x = left\n",
    "    top_left.y = top\n",
    "    bottom_right = PixelCoord()\n",
    "    bottom_right.x = right\n",
    "    bottom_right.y = bottom\n",
    "    return top_left, bottom_right"
   ]
  },
  {
   "cell_type": "code",
   "execution_count": 20,
   "metadata": {},
   "outputs": [
    {
     "data": {
      "text/plain": [
       "matrix([[None]], dtype=object)"
      ]
     },
     "execution_count": 20,
     "metadata": {},
     "output_type": "execute_result"
    }
   ],
   "source": [
    "image_path = \"D:\\Student Research Training\\COCOdataset_making\\mankey_dataset\\2019-11-19-21-00-00\\processed\\image_masks\\000001_mask.png\"\n",
    "im = cv2.imread(image_path)\n",
    "np.matrix(im)"
   ]
  }
 ],
 "metadata": {
  "kernelspec": {
   "display_name": "Python [conda env:SRT]",
   "language": "python",
   "name": "conda-env-SRT-py"
  },
  "language_info": {
   "codemirror_mode": {
    "name": "ipython",
    "version": 3
   },
   "file_extension": ".py",
   "mimetype": "text/x-python",
   "name": "python",
   "nbconvert_exporter": "python",
   "pygments_lexer": "ipython3",
   "version": "3.8.5"
  }
 },
 "nbformat": 4,
 "nbformat_minor": 4
}
