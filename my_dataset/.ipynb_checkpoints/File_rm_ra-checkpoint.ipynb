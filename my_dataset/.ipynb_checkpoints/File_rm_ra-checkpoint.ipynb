{
 "cells": [
  {
   "cell_type": "code",
   "execution_count": 1,
   "metadata": {},
   "outputs": [
    {
     "name": "stdout",
     "output_type": "stream",
     "text": [
      "deleteD:/Student Research Training/mankey_to_coco\\train_m/2019-11-19-21-00-00/processed/image_masks\\000001_mask.png\n",
      "deleteD:/Student Research Training/mankey_to_coco\\train_m/2019-11-19-21-00-00/processed/image_masks\\000001_visual_mask.png\n",
      "deleteD:/Student Research Training/mankey_to_coco\\train_m/2019-11-19-21-00-00/processed/images\\000001_depth.png\n",
      "deleteD:/Student Research Training/mankey_to_coco\\train_m/2019-11-19-21-00-00/processed/images\\000001_rgb.png\n",
      "deleteD:/Student Research Training/mankey_to_coco\\train_m/2019-11-19-21-00-00/processed/image_masks\\000003_mask.png\n",
      "deleteD:/Student Research Training/mankey_to_coco\\train_m/2019-11-19-21-00-00/processed/image_masks\\000003_visual_mask.png\n",
      "deleteD:/Student Research Training/mankey_to_coco\\train_m/2019-11-19-21-00-00/processed/images\\000003_depth.png\n",
      "deleteD:/Student Research Training/mankey_to_coco\\train_m/2019-11-19-21-00-00/processed/images\\000003_rgb.png\n",
      "deleteD:/Student Research Training/mankey_to_coco\\train_m/2019-11-19-21-00-00/processed/image_masks\\000004_mask.png\n",
      "deleteD:/Student Research Training/mankey_to_coco\\train_m/2019-11-19-21-00-00/processed/image_masks\\000004_visual_mask.png\n",
      "deleteD:/Student Research Training/mankey_to_coco\\train_m/2019-11-19-21-00-00/processed/images\\000004_depth.png\n",
      "deleteD:/Student Research Training/mankey_to_coco\\train_m/2019-11-19-21-00-00/processed/images\\000004_rgb.png\n"
     ]
    }
   ],
   "source": [
    "# File remove\n",
    "import os\n",
    "import cv2\n",
    "\n",
    "m_path = \"D:/Student Research Training/mankey_to_coco\"\n",
    "\n",
    "images_path = os.path.join(m_path,\"train_m/2019-11-19-21-00-00/processed/images\")\n",
    "image_mask_path = os.path.join(m_path,\"train_m/2019-11-19-21-00-00/processed/image_masks\")\n",
    "\n",
    "assert os.path.exists(images_path)\n",
    "assert os.path.exists(image_mask_path)\n",
    "\n",
    "delete_index = [57,67,77]\n",
    "\n",
    "for i in delete_index:\n",
    "    mask_path = os.path.join(image_mask_path,\"%06i_mask.png\" % i)\n",
    "    visual_path = os.path.join(image_mask_path,\"%06i_visual_mask.png\" % i) \n",
    "    depth_path = os.path.join(images_path,\"%06i_depth.png\" % i)\n",
    "    rgb_path =  os.path.join(images_path,\"%06i_rgb.png\" % i)\n",
    "    \n",
    "    paths_set = [mask_path,visual_path,depth_path,rgb_path]\n",
    "    \n",
    "    for path in paths_set:\n",
    "        if os.path.exists(path):\n",
    "            os.remove(path)\n",
    "            print(\"delete\"+path)\n",
    "        else:\n",
    "            print(\"file\"+\" \"+path+\"already being deleted\")\n",
    "    \n",
    "    \n",
    "    \n",
    "     \n",
    "\n"
   ]
  },
  {
   "cell_type": "code",
   "execution_count": 47,
   "metadata": {},
   "outputs": [
    {
     "name": "stdout",
     "output_type": "stream",
     "text": [
      "86\n",
      "86\n",
      "86\n",
      "86\n"
     ]
    }
   ],
   "source": [
    "## File rearrange\n",
    "rootdir = [images_path,image_mask_path]\n",
    "for file_path in rootdir:\n",
    "    files = os.listdir(file_path)\n",
    "    file_num = len(files);\n",
    "    assert file_num % 2 == 0\n",
    "    i = 0;\n",
    "    j = 0;\n",
    "    for name in files:\n",
    "        a = os.path.splitext(name)\n",
    "        if a[0][7:-1] == 'visual_mas':\n",
    "            newname = \"%06i_visual_mask.png\" % i\n",
    "            os.rename(os.path.join(file_path,name),os.path.join(file_path,newname))\n",
    "            i = i+1\n",
    "        if a[0][7:-1] == 'mas':\n",
    "            newname = \"%06i_mask.png\" % j\n",
    "            os.rename(os.path.join(file_path,name),os.path.join(file_path,newname))\n",
    "            j = j+1\n",
    "        if a[0][7:-1] == 'rg':\n",
    "            newname = \"%06i_rgb.png\" % i\n",
    "            os.rename(os.path.join(file_path,name),os.path.join(file_path,newname))\n",
    "            i = i+1\n",
    "        if a[0][7:-1] == 'dept':\n",
    "            newname = \"%06i_depth.png\" % j\n",
    "            os.rename(os.path.join(file_path,name),os.path.join(file_path,newname))\n",
    "            j = j+1\n",
    "    assert i == file_num/2\n",
    "    assert j == file_num/2\n",
    "#     print(i)\n",
    "#     print(j)\n",
    "            \n",
    "\n"
   ]
  }
 ],
 "metadata": {
  "kernelspec": {
   "display_name": "Python [conda env:SRT]",
   "language": "python",
   "name": "conda-env-SRT-py"
  },
  "language_info": {
   "codemirror_mode": {
    "name": "ipython",
    "version": 3
   },
   "file_extension": ".py",
   "mimetype": "text/x-python",
   "name": "python",
   "nbconvert_exporter": "python",
   "pygments_lexer": "ipython3",
   "version": "3.8.5"
  }
 },
 "nbformat": 4,
 "nbformat_minor": 4
}
